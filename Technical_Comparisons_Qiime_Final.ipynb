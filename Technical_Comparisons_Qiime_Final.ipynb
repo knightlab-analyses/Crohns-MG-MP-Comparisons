{
 "cells": [
  {
   "cell_type": "markdown",
   "metadata": {
    "collapsed": true
   },
   "source": [
    "# Evaluating Metagenomic Prediciton of the Metaproteome in a 6 Year Study of a Crohn's Patient"
   ]
  },
  {
   "cell_type": "markdown",
   "metadata": {},
   "source": [
    "Date: 8/24/2018 <br>\n",
    "Author: Robert Mills <br>\n",
    "Environment: qiime2-2018.4 & qiime1 as designated"
   ]
  },
  {
   "cell_type": "markdown",
   "metadata": {},
   "source": [
    "Project Abstract: <br><br>\n",
    "Although genetic approaches are the standard in microbiome analysis, proteome-level information is largely absent. This discrepancy warrants a better understanding of the relationship between genetic copy number and protein abundance, as this is crucial information for inferring protein level changes from metagenomic data. As it is unknown how these systems are altered during disease states, we leverage a six-year fecal time series of a single patient with Colonic Crohn’s disease. Utilizing Tandem Mass Tag (TMT) multiplexed proteomics and shotgun metagenomic sequencing, we quantify over 29,000 protein groups and 110,000 genes and compare them to the clinical diagnostics of serum C-reactive protein, fecal calprotectin, and lysozyme. Results indicate that many broad scale observations were consistent between data types, including fluctuations in Gene Ontology (GO) terms related to IBD severity such as formate oxidation and nitrate utilization. By applying linear regression we determined genes and proteins related to clinical metrics, and observed many conserved taxonomic differences relevant to Crohn’s disease such as negative correlation of Faecalibacterium and positive correlation of Escherichia to fecal calprotectin. Despite consistent genera associations, the specific genes correlated with these metrics were almost entirely different between the two data types. Unique protein-level functional changes were observed relating to clinical markers, and the metaproteome revealed unique functional relationships not seen in the metagenome. These relationships include a previously established connection between urease enzymes, amino acid metabolism and local inflammation. This proof-of-concept metagenomic-metaproteomic approach prompts further investigation of the metaproteome and its relations to the metagenome in larger cohorts."
   ]
  },
  {
   "cell_type": "markdown",
   "metadata": {},
   "source": [
    "### Load all Dependencies"
   ]
  },
  {
   "cell_type": "code",
   "execution_count": 4,
   "metadata": {
    "collapsed": true
   },
   "outputs": [],
   "source": [
    "# Initializes the notebook with inline display\n",
    "%matplotlib inline\n",
    "\n",
    "from os import mkdir\n",
    "import os\n",
    "import copy\n",
    "from os.path import abspath, join as pjoin, exists\n",
    "from shutil import copy2, move\n",
    "from time import strftime, strptime\n",
    "from numpy import nan, isnan, arange\n",
    "from pandas import read_csv, Series, DataFrame\n",
    "from IPython.display import Image\n",
    "import numpy as np\n",
    "import pandas as pd\n",
    "import matplotlib as mpl\n",
    "import matplotlib.pyplot as plt"
   ]
  },
  {
   "cell_type": "markdown",
   "metadata": {},
   "source": [
    "### Convert text files to Biom Files"
   ]
  },
  {
   "cell_type": "code",
   "execution_count": 5,
   "metadata": {
    "collapsed": true
   },
   "outputs": [],
   "source": [
    "#Convert summed MG table into biom format\n",
    "\n",
    "#Convert tab-separated file to biom file\n",
    "!biom convert -i ./Shotgun/Salmon_CPMs_Sum_per_date.txt \\\n",
    "-o ./Shotgun/MG_sums.biom \\\n",
    "-m ./LS_Metadata.txt \\\n",
    "--table-type=\"OTU table\" --to-hdf5"
   ]
  },
  {
   "cell_type": "code",
   "execution_count": 6,
   "metadata": {
    "collapsed": true
   },
   "outputs": [],
   "source": [
    "#Convert MG table into biom format\n",
    "\n",
    "#Convert tab-separated file to biom file\n",
    "!biom convert -i ./Shotgun/Salmon_CPMs_w0s.txt \\\n",
    "-o ./Shotgun/MG.biom \\\n",
    "-m ./LS_Metadata_triplicates.txt \\\n",
    "--table-type=\"OTU table\" --to-hdf5"
   ]
  },
  {
   "cell_type": "code",
   "execution_count": 21,
   "metadata": {
    "collapsed": true
   },
   "outputs": [],
   "source": [
    "#Convert pDB commonreps table into biom format\n",
    "\n",
    "#Convert tab-separated file to biom file\n",
    "!biom convert -i ./NEW_DATA/Duplicate_Peptide_Filter/pDB_CSVs/NormalizedCommonReps.txt \\\n",
    "-o ./NEW_DATA/Duplicate_Peptide_Filter/pDB_CSVs/NormalizedCommonReps.biom \\\n",
    "-m ./LS_Metadata_triplicates.txt \\\n",
    "--table-type=\"OTU table\" --to-hdf5"
   ]
  },
  {
   "cell_type": "code",
   "execution_count": 8,
   "metadata": {
    "collapsed": true
   },
   "outputs": [],
   "source": [
    "#Convert pDB commonreps avgs table into biom format\n",
    "\n",
    "#Convert tab-separated file to biom file\n",
    "!biom convert -i ./NEW_DATA/Duplicate_Peptide_Filter/pDB_CSVs/NormalizedDataAll_Avgs.txt \\\n",
    "-o ./NEW_DATA/Duplicate_Peptide_Filter/pDB_CSVs/NormalizedCommonReps_avg.biom \\\n",
    "-m ./LS_Metadata.txt \\\n",
    "--table-type=\"OTU table\" --to-hdf5"
   ]
  },
  {
   "cell_type": "markdown",
   "metadata": {},
   "source": [
    "### Import all as Qiime2 artifacts"
   ]
  },
  {
   "cell_type": "code",
   "execution_count": 9,
   "metadata": {
    "collapsed": true
   },
   "outputs": [],
   "source": [
    "!qiime tools import \\\n",
    "  --input-path ./Shotgun/MG.biom \\\n",
    "  --type 'FeatureTable[Frequency]' \\\n",
    "  --output-path Shotgun_biom.qza"
   ]
  },
  {
   "cell_type": "code",
   "execution_count": 10,
   "metadata": {
    "collapsed": true
   },
   "outputs": [],
   "source": [
    "!qiime tools import \\\n",
    "  --input-path ./Shotgun/MG_sums.biom \\\n",
    "  --type 'FeatureTable[Frequency]' \\\n",
    "  --output-path Shotgun_sums_biom.qza"
   ]
  },
  {
   "cell_type": "code",
   "execution_count": 11,
   "metadata": {
    "collapsed": true
   },
   "outputs": [],
   "source": [
    "!qiime tools import \\\n",
    "  --input-path ./NEW_DATA/Duplicate_Peptide_Filter/pDB_CSVs/NormalizedCommonReps.biom \\\n",
    "  --type 'FeatureTable[Frequency]' \\\n",
    "  --output-path ./NormalizedCommonReps_biom.qza"
   ]
  },
  {
   "cell_type": "code",
   "execution_count": 12,
   "metadata": {
    "collapsed": true
   },
   "outputs": [],
   "source": [
    "!qiime tools import \\\n",
    "  --input-path ./NEW_DATA/Duplicate_Peptide_Filter/pDB_CSVs/NormalizedDataAll_Avgs.biom \\\n",
    "  --type 'FeatureTable[Frequency]' \\\n",
    "  --output-path ./Average_per_date_MP_biom.qza"
   ]
  },
  {
   "cell_type": "markdown",
   "metadata": {},
   "source": [
    "### Feature table summarize"
   ]
  },
  {
   "cell_type": "code",
   "execution_count": 13,
   "metadata": {},
   "outputs": [
    {
     "name": "stdout",
     "output_type": "stream",
     "text": [
      "\u001b[32mSaved Visualization to: Shotgun_biom.qzv\u001b[0m\r\n"
     ]
    }
   ],
   "source": [
    "!qiime feature-table summarize \\\n",
    "  --i-table Shotgun_biom.qza \\\n",
    "  --o-visualization Shotgun_biom.qzv \\\n",
    "  --m-sample-metadata-file ./LS_Metadata_triplicates.txt "
   ]
  },
  {
   "cell_type": "code",
   "execution_count": 14,
   "metadata": {},
   "outputs": [
    {
     "name": "stdout",
     "output_type": "stream",
     "text": [
      "\u001b[32mSaved Visualization to: ./NormalizedCommonReps_biom.qzv\u001b[0m\r\n"
     ]
    }
   ],
   "source": [
    "!qiime feature-table summarize \\\n",
    "  --i-table ./NormalizedCommonReps_biom.qza \\\n",
    "  --o-visualization ./NormalizedCommonReps_biom.qzv \\\n",
    "  --m-sample-metadata-file ./LS_Metadata_triplicates.txt "
   ]
  },
  {
   "cell_type": "code",
   "execution_count": 15,
   "metadata": {},
   "outputs": [
    {
     "name": "stdout",
     "output_type": "stream",
     "text": [
      "\u001b[32mSaved Visualization to: ./Average_per_date_MP_biom.qzv\u001b[0m\r\n"
     ]
    }
   ],
   "source": [
    "!qiime feature-table summarize \\\n",
    "  --i-table ./Average_per_date_MP_biom.qza \\\n",
    "  --o-visualization ./Average_per_date_MP_biom.qzv \\\n",
    "  --m-sample-metadata-file ./LS_Metadata.txt "
   ]
  },
  {
   "cell_type": "code",
   "execution_count": 16,
   "metadata": {},
   "outputs": [
    {
     "name": "stdout",
     "output_type": "stream",
     "text": [
      "\u001b[32mSaved Visualization to: ./Shotgun_sums_biom.qzv\u001b[0m\r\n"
     ]
    }
   ],
   "source": [
    "!qiime feature-table summarize \\\n",
    "  --i-table ./Shotgun_sums_biom.qza \\\n",
    "  --o-visualization ./Shotgun_sums_biom.qzv \\\n",
    "  --m-sample-metadata-file ./LS_Metadata.txt "
   ]
  },
  {
   "cell_type": "markdown",
   "metadata": {},
   "source": [
    "### Qiime 1 PCoAs"
   ]
  },
  {
   "cell_type": "code",
   "execution_count": 2,
   "metadata": {
    "collapsed": true
   },
   "outputs": [],
   "source": [
    "#Use Qiime1 for creating distance matrices for Procrustes and Mantel test"
   ]
  },
  {
   "cell_type": "code",
   "execution_count": 19,
   "metadata": {},
   "outputs": [
    {
     "name": "stdout",
     "output_type": "stream",
     "text": [
      "/Users/rhmills/miniconda3/envs/qiime1/lib/python2.7/site-packages/cogent/maths/distance_transform.py:456: VisibleDeprecationWarning: `rank` is deprecated; use the `ndim` attribute or function instead. To find the rank of a matrix see `numpy.linalg.matrix_rank`.\n",
      "  if rank(datamtx) != 2:\n",
      "/Users/rhmills/miniconda3/envs/qiime1/lib/python2.7/site-packages/cogent/maths/distance_transform.py:188: VisibleDeprecationWarning: `rank` is deprecated; use the `ndim` attribute or function instead. To find the rank of a matrix see `numpy.linalg.matrix_rank`.\n",
      "  if rank(datamtx) != 2:\n",
      "/Users/rhmills/miniconda3/envs/qiime1/lib/python2.7/site-packages/cogent/maths/distance_transform.py:1233: VisibleDeprecationWarning: `rank` is deprecated; use the `ndim` attribute or function instead. To find the rank of a matrix see `numpy.linalg.matrix_rank`.\n",
      "  if rank(datamtx) != 2:\n"
     ]
    }
   ],
   "source": [
    "!beta_diversity_through_plots.py -i ./Shotgun/MG.biom -m ./LS_Metadata_triplicates.txt -o ./Qiime/PCoA_MG -p ./paramaters2.txt"
   ]
  },
  {
   "cell_type": "code",
   "execution_count": 23,
   "metadata": {},
   "outputs": [
    {
     "name": "stdout",
     "output_type": "stream",
     "text": [
      "/Users/rhmills/miniconda3/envs/qiime1/lib/python2.7/site-packages/cogent/maths/distance_transform.py:456: VisibleDeprecationWarning: `rank` is deprecated; use the `ndim` attribute or function instead. To find the rank of a matrix see `numpy.linalg.matrix_rank`.\n",
      "  if rank(datamtx) != 2:\n",
      "/Users/rhmills/miniconda3/envs/qiime1/lib/python2.7/site-packages/cogent/maths/distance_transform.py:188: VisibleDeprecationWarning: `rank` is deprecated; use the `ndim` attribute or function instead. To find the rank of a matrix see `numpy.linalg.matrix_rank`.\n",
      "  if rank(datamtx) != 2:\n",
      "/Users/rhmills/miniconda3/envs/qiime1/lib/python2.7/site-packages/cogent/maths/distance_transform.py:1233: VisibleDeprecationWarning: `rank` is deprecated; use the `ndim` attribute or function instead. To find the rank of a matrix see `numpy.linalg.matrix_rank`.\n",
      "  if rank(datamtx) != 2:\n",
      "/Users/rhmills/miniconda3/envs/qiime1/lib/python2.7/site-packages/skbio/stats/ordination/_principal_coordinate_analysis.py:147: RuntimeWarning: invalid value encountered in true_divide\n",
      "  proportion_explained = eigvals / eigvals.sum()\n",
      "Traceback (most recent call last):\n",
      "  File \"/Users/rhmills/miniconda3/envs/qiime1/bin/beta_diversity_through_plots.py\", line 4, in <module>\n",
      "    __import__('pkg_resources').run_script('qiime==1.9.1', 'beta_diversity_through_plots.py')\n",
      "  File \"/Users/rhmills/miniconda3/envs/qiime1/lib/python2.7/site-packages/pkg_resources/__init__.py\", line 750, in run_script\n",
      "    self.require(requires)[0].run_script(script_name, ns)\n",
      "  File \"/Users/rhmills/miniconda3/envs/qiime1/lib/python2.7/site-packages/pkg_resources/__init__.py\", line 1527, in run_script\n",
      "    exec(code, namespace, namespace)\n",
      "  File \"/Users/rhmills/miniconda3/envs/qiime1/lib/python2.7/site-packages/qiime-1.9.1-py2.7.egg-info/scripts/beta_diversity_through_plots.py\", line 153, in <module>\n",
      "    main()\n",
      "  File \"/Users/rhmills/miniconda3/envs/qiime1/lib/python2.7/site-packages/qiime-1.9.1-py2.7.egg-info/scripts/beta_diversity_through_plots.py\", line 150, in main\n",
      "    status_update_callback=status_update_callback)\n",
      "  File \"/Users/rhmills/miniconda3/envs/qiime1/lib/python2.7/site-packages/qiime/workflow/downstream.py\", line 183, in run_beta_diversity_through_plots\n",
      "    close_logger_on_success=close_logger_on_success)\n",
      "  File \"/Users/rhmills/miniconda3/envs/qiime1/lib/python2.7/site-packages/qiime/workflow/util.py\", line 122, in call_commands_serially\n",
      "    raise WorkflowError(msg)\n",
      "qiime.workflow.util.WorkflowError: \n",
      "\n",
      "*** ERROR RAISED DURING STEP: Make emperor plots, binary_jaccard)\n",
      "Command run was:\n",
      " make_emperor.py -i ./Qiime/PCoA_pDB_CommonReps4/binary_jaccard_pc.txt -o ./Qiime/PCoA_pDB_CommonReps4/binary_jaccard_emperor_pcoa_plot/ -m ./LS_Metadata_triplicates.txt \n",
      "Command returned exit status: 2\n",
      "Stdout:\n",
      "\n",
      "Stderr\n",
      "Error in make_emperor.py: Due to the variation explained, Emperor could not plot at least 3 axes, check the input files to ensure that the percent explained is greater than 0.01 in at least three axes.\n",
      "\n",
      "\n"
     ]
    }
   ],
   "source": [
    "!beta_diversity_through_plots.py -i ./NEW_DATA/Duplicate_Peptide_Filter/pDB_CSVs/NormalizedCommonReps.biom -m ./LS_Metadata_triplicates.txt -o ./Qiime/PCoA_pDB_CommonReps -p ./paramaters2.txt"
   ]
  },
  {
   "cell_type": "markdown",
   "metadata": {},
   "source": [
    "#### Procrustes - Qiime 1 with triplicates"
   ]
  },
  {
   "cell_type": "code",
   "execution_count": 24,
   "metadata": {
    "collapsed": true
   },
   "outputs": [],
   "source": [
    "#Qiime1 MG vs CommonReps using bray-curtis distances\n",
    "!compare_distance_matrices.py --method mantel -i ./Qiime/PCoA_MG2/bray_curtis_dm.txt,./Qiime/PCoA_pDB_CommonReps/bray_curtis_dm.txt -o ./Qiime/Procrustes/MG_pDB_CommonReps -n 999"
   ]
  },
  {
   "cell_type": "code",
   "execution_count": 25,
   "metadata": {
    "collapsed": true
   },
   "outputs": [],
   "source": [
    "!transform_coordinate_matrices.py -i ./Qiime/PCoA_MG/bray_curtis_pc.txt,./Qiime/PCoA_pDB_CommonReps/bray_curtis_pc.txt -r 999 -o ./Qiime/Procrustes/MG_pDB_CommonReps_out"
   ]
  },
  {
   "cell_type": "code",
   "execution_count": 26,
   "metadata": {
    "collapsed": true
   },
   "outputs": [],
   "source": [
    "!make_emperor.py -c -i ./Qiime/Procrustes/MG_pDB_CommonReps_out/ -o ./Qiime/Procrustes/MG_pDB_CommonReps_out/plots/ -m ./LS_Metadata_triplicates.txt"
   ]
  },
  {
   "cell_type": "markdown",
   "metadata": {},
   "source": [
    "### Core metrics - Qiime2"
   ]
  },
  {
   "cell_type": "code",
   "execution_count": 4,
   "metadata": {},
   "outputs": [
    {
     "name": "stdout",
     "output_type": "stream",
     "text": [
      "\u001b[32mSaved FeatureTable[Frequency] to: core-metrics-results/MG/rarefied_table.qza\u001b[0m\n",
      "\u001b[32mSaved SampleData[AlphaDiversity] to: core-metrics-results/MG/observed_otus_vector.qza\u001b[0m\n",
      "\u001b[32mSaved SampleData[AlphaDiversity] to: core-metrics-results/MG/shannon_vector.qza\u001b[0m\n",
      "\u001b[32mSaved SampleData[AlphaDiversity] to: core-metrics-results/MG/evenness_vector.qza\u001b[0m\n",
      "\u001b[32mSaved DistanceMatrix to: core-metrics-results/MG/jaccard_distance_matrix.qza\u001b[0m\n",
      "\u001b[32mSaved DistanceMatrix to: core-metrics-results/MG/bray_curtis_distance_matrix.qza\u001b[0m\n",
      "\u001b[32mSaved PCoAResults to: core-metrics-results/MG/jaccard_pcoa_results.qza\u001b[0m\n",
      "\u001b[32mSaved PCoAResults to: core-metrics-results/MG/bray_curtis_pcoa_results.qza\u001b[0m\n",
      "\u001b[32mSaved Visualization to: core-metrics-results/MG/jaccard_emperor.qzv\u001b[0m\n",
      "\u001b[32mSaved Visualization to: core-metrics-results/MG/bray_curtis_emperor.qzv\u001b[0m\n"
     ]
    }
   ],
   "source": [
    "#\n",
    "!qiime diversity core-metrics \\\n",
    "  --i-table ./Shotgun_biom.qza \\\n",
    "    --p-sampling-depth 998500 \\\n",
    "--m-metadata-file ./LS_Metadata_triplicates.txt \\\n",
    "--output-dir core-metrics-results/MG"
   ]
  },
  {
   "cell_type": "code",
   "execution_count": 5,
   "metadata": {},
   "outputs": [
    {
     "name": "stdout",
     "output_type": "stream",
     "text": [
      "\u001b[32mSaved FeatureTable[Frequency] to: core-metrics-results/pDB_common/rarefied_table.qza\u001b[0m\n",
      "\u001b[32mSaved SampleData[AlphaDiversity] to: core-metrics-results/pDB_common/observed_otus_vector.qza\u001b[0m\n",
      "\u001b[32mSaved SampleData[AlphaDiversity] to: core-metrics-results/pDB_common/shannon_vector.qza\u001b[0m\n",
      "\u001b[32mSaved SampleData[AlphaDiversity] to: core-metrics-results/pDB_common/evenness_vector.qza\u001b[0m\n",
      "\u001b[32mSaved DistanceMatrix to: core-metrics-results/pDB_common/jaccard_distance_matrix.qza\u001b[0m\n",
      "\u001b[32mSaved DistanceMatrix to: core-metrics-results/pDB_common/bray_curtis_distance_matrix.qza\u001b[0m\n",
      "\u001b[32mSaved PCoAResults to: core-metrics-results/pDB_common/jaccard_pcoa_results.qza\u001b[0m\n",
      "\u001b[32mSaved PCoAResults to: core-metrics-results/pDB_common/bray_curtis_pcoa_results.qza\u001b[0m\n",
      "\u001b[32mSaved Visualization to: core-metrics-results/pDB_common/jaccard_emperor.qzv\u001b[0m\n",
      "\u001b[32mSaved Visualization to: core-metrics-results/pDB_common/bray_curtis_emperor.qzv\u001b[0m\n"
     ]
    }
   ],
   "source": [
    "#\n",
    "!qiime diversity core-metrics \\\n",
    "  --i-table ./NormalizedCommonReps_biom.qza \\\n",
    "    --p-sampling-depth 1704085 \\\n",
    "--m-metadata-file ./LS_Metadata_triplicates.txt \\\n",
    "--output-dir core-metrics-results/pDB_common"
   ]
  },
  {
   "cell_type": "code",
   "execution_count": 42,
   "metadata": {},
   "outputs": [
    {
     "name": "stdout",
     "output_type": "stream",
     "text": [
      "\u001b[32mSaved FeatureTable[Frequency] to: core-metrics-results/pDB_averages/rarefied_table.qza\u001b[0m\n",
      "\u001b[32mSaved SampleData[AlphaDiversity] to: core-metrics-results/pDB_averages/observed_otus_vector.qza\u001b[0m\n",
      "\u001b[32mSaved SampleData[AlphaDiversity] to: core-metrics-results/pDB_averages/shannon_vector.qza\u001b[0m\n",
      "\u001b[32mSaved SampleData[AlphaDiversity] to: core-metrics-results/pDB_averages/evenness_vector.qza\u001b[0m\n",
      "\u001b[32mSaved DistanceMatrix to: core-metrics-results/pDB_averages/jaccard_distance_matrix.qza\u001b[0m\n",
      "\u001b[32mSaved DistanceMatrix to: core-metrics-results/pDB_averages/bray_curtis_distance_matrix.qza\u001b[0m\n",
      "\u001b[32mSaved PCoAResults to: core-metrics-results/pDB_averages/jaccard_pcoa_results.qza\u001b[0m\n",
      "\u001b[32mSaved PCoAResults to: core-metrics-results/pDB_averages/bray_curtis_pcoa_results.qza\u001b[0m\n",
      "\u001b[32mSaved Visualization to: core-metrics-results/pDB_averages/jaccard_emperor.qzv\u001b[0m\n",
      "\u001b[32mSaved Visualization to: core-metrics-results/pDB_averages/bray_curtis_emperor.qzv\u001b[0m\n"
     ]
    }
   ],
   "source": [
    "#\n",
    "!qiime diversity core-metrics \\\n",
    "  --i-table ./Average_per_date_MP_biom.qza \\\n",
    "    --p-sampling-depth 3188991 \\\n",
    "--m-metadata-file ./LS_Metadata.txt \\\n",
    "--output-dir core-metrics-results/pDB_averages"
   ]
  },
  {
   "cell_type": "code",
   "execution_count": 46,
   "metadata": {},
   "outputs": [
    {
     "name": "stdout",
     "output_type": "stream",
     "text": [
      "\u001b[32mSaved FeatureTable[Frequency] to: core-metrics-results/Shotgun_sums/rarefied_table.qza\u001b[0m\n",
      "\u001b[32mSaved SampleData[AlphaDiversity] to: core-metrics-results/Shotgun_sums/observed_otus_vector.qza\u001b[0m\n",
      "\u001b[32mSaved SampleData[AlphaDiversity] to: core-metrics-results/Shotgun_sums/shannon_vector.qza\u001b[0m\n",
      "\u001b[32mSaved SampleData[AlphaDiversity] to: core-metrics-results/Shotgun_sums/evenness_vector.qza\u001b[0m\n",
      "\u001b[32mSaved DistanceMatrix to: core-metrics-results/Shotgun_sums/jaccard_distance_matrix.qza\u001b[0m\n",
      "\u001b[32mSaved DistanceMatrix to: core-metrics-results/Shotgun_sums/bray_curtis_distance_matrix.qza\u001b[0m\n",
      "\u001b[32mSaved PCoAResults to: core-metrics-results/Shotgun_sums/jaccard_pcoa_results.qza\u001b[0m\n",
      "\u001b[32mSaved PCoAResults to: core-metrics-results/Shotgun_sums/bray_curtis_pcoa_results.qza\u001b[0m\n",
      "\u001b[32mSaved Visualization to: core-metrics-results/Shotgun_sums/jaccard_emperor.qzv\u001b[0m\n",
      "\u001b[32mSaved Visualization to: core-metrics-results/Shotgun_sums/bray_curtis_emperor.qzv\u001b[0m\n"
     ]
    }
   ],
   "source": [
    "#\n",
    "!qiime diversity core-metrics \\\n",
    "  --i-table ./Shotgun_sums_biom.qza \\\n",
    "    --p-sampling-depth 2605204 \\\n",
    "--m-metadata-file ./LS_Metadata.txt \\\n",
    "--output-dir core-metrics-results/Shotgun_sums"
   ]
  },
  {
   "cell_type": "markdown",
   "metadata": {},
   "source": [
    "### Beta group significance - Qiime2"
   ]
  },
  {
   "cell_type": "code",
   "execution_count": 17,
   "metadata": {},
   "outputs": [
    {
     "name": "stdout",
     "output_type": "stream",
     "text": [
      "\u001b[32mSaved Visualization to: core-metrics-results/MG/bray_curtis-Inflammation-significance.qzv\u001b[0m\r\n"
     ]
    }
   ],
   "source": [
    "!qiime diversity beta-group-significance \\\n",
    "  --i-distance-matrix core-metrics-results/MG/bray_curtis_distance_matrix.qza \\\n",
    "  --m-metadata-file ./LS_Metadata_triplicates.txt \\\n",
    "  --m-metadata-column Inflammation_State \\\n",
    "  --o-visualization core-metrics-results/MG/bray_curtis-Inflammation-significance.qzv \\\n",
    "  --p-pairwise"
   ]
  },
  {
   "cell_type": "code",
   "execution_count": 18,
   "metadata": {},
   "outputs": [
    {
     "name": "stdout",
     "output_type": "stream",
     "text": [
      "\u001b[32mSaved Visualization to: core-metrics-results/pDB_common/bray_curtis-Inflammation-significance.qzv\u001b[0m\r\n"
     ]
    }
   ],
   "source": [
    "!qiime diversity beta-group-significance \\\n",
    "  --i-distance-matrix core-metrics-results/pDB_common/bray_curtis_distance_matrix.qza \\\n",
    "  --m-metadata-file ./LS_Metadata_triplicates.txt \\\n",
    "  --m-metadata-column Inflammation_State \\\n",
    "  --o-visualization core-metrics-results/pDB_common/bray_curtis-Inflammation-significance.qzv \\\n",
    "  --p-pairwise"
   ]
  },
  {
   "cell_type": "code",
   "execution_count": 44,
   "metadata": {},
   "outputs": [
    {
     "name": "stdout",
     "output_type": "stream",
     "text": [
      "\u001b[32mSaved Visualization to: core-metrics-results/pDB_averages/bray_curtis-Inflammation-significance.qzv\u001b[0m\r\n"
     ]
    }
   ],
   "source": [
    "!qiime diversity beta-group-significance \\\n",
    "  --i-distance-matrix core-metrics-results/pDB_averages/bray_curtis_distance_matrix.qza \\\n",
    "  --m-metadata-file ./LS_Metadata.txt \\\n",
    "  --m-metadata-column Inflammation_State \\\n",
    "  --o-visualization core-metrics-results/pDB_averages/bray_curtis-Inflammation-significance.qzv \\\n",
    "  --p-pairwise"
   ]
  },
  {
   "cell_type": "code",
   "execution_count": 47,
   "metadata": {},
   "outputs": [
    {
     "name": "stdout",
     "output_type": "stream",
     "text": [
      "\u001b[32mSaved Visualization to: core-metrics-results/Shotgun_sums/bray_curtis-Inflammation-significance.qzv\u001b[0m\r\n"
     ]
    }
   ],
   "source": [
    "!qiime diversity beta-group-significance \\\n",
    "  --i-distance-matrix core-metrics-results/Shotgun_sums/bray_curtis_distance_matrix.qza \\\n",
    "  --m-metadata-file ./LS_Metadata.txt \\\n",
    "  --m-metadata-column Inflammation_State \\\n",
    "  --o-visualization core-metrics-results/Shotgun_sums/bray_curtis-Inflammation-significance.qzv \\\n",
    "  --p-pairwise"
   ]
  }
 ],
 "metadata": {
  "anaconda-cloud": {},
  "kernelspec": {
   "display_name": "Python 2",
   "language": "python",
   "name": "python2"
  },
  "language_info": {
   "codemirror_mode": {
    "name": "ipython",
    "version": 2
   },
   "file_extension": ".py",
   "mimetype": "text/x-python",
   "name": "python",
   "nbconvert_exporter": "python",
   "pygments_lexer": "ipython2",
   "version": "2.7.13"
  }
 },
 "nbformat": 4,
 "nbformat_minor": 2
}
